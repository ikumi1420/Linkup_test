{
 "cells": [
  {
   "cell_type": "code",
   "execution_count": 1,
   "id": "25753de2-3b96-4c09-a3c5-6c7b3e08c8a9",
   "metadata": {},
   "outputs": [],
   "source": [
    "from time import sleep\n",
    "from bs4 import BeautifulSoup\n",
    "import requests\n",
    "import pandas as pd"
   ]
  },
  {
   "cell_type": "code",
   "execution_count": 2,
   "id": "56cd0fe6-5aee-45e7-92eb-6421c7b6ab7d",
   "metadata": {},
   "outputs": [],
   "source": [
    "url= \"https://suumo.jp/jj/common/ichiran/JJ901FC004/?initFlg=1&seniFlg=1&pc=30&ar=030&ta=08&scTmp=08220&kb=0&xb=0&newflg=0&km=1&sc=08220&bs=010&bs=011&bs=020&bs=021&pn={}\""
   ]
  },
  {
   "cell_type": "code",
   "execution_count": 3,
   "id": "2fc47bf9-5341-4f73-9399-030c5092caa2",
   "metadata": {},
   "outputs": [],
   "source": [
    "d_list=[]\n",
    "max_page=50"
   ]
  },
  {
   "cell_type": "code",
   "execution_count": 4,
   "id": "af356dfc-ad88-49a8-9201-56b1a1a6611e",
   "metadata": {},
   "outputs": [],
   "source": [
    "for i in range(1,max_page+1):\n",
    "    target_url=url.format(i)\n",
    "    r=requests.get(target_url)\n",
    "    sleep(1)\n",
    "    soup=BeautifulSoup(r.text)\n",
    "    contents=soup.find_all(\"div\",class_=\"cassettebox\")\n",
    "    for content in contents:\n",
    "        title=content.find(\"h2\",class_=\"cassettebox-title\")\n",
    "        adress,station,distance,price,area,age=content.find_all(\"div\",class_=\"infodatabox-box-txt\")[0:6]\n",
    "        d={\n",
    "        'title':title.text,\n",
    "        'adress':adress.text,\n",
    "        'station':station.text,\n",
    "        'distance':distance.text,\n",
    "        'price':price.text,\n",
    "        'area':area.text,\n",
    "        'age':age.text,\n",
    "        }\n",
    "        d_list.append(d)"
   ]
  },
  {
   "cell_type": "code",
   "execution_count": 5,
   "id": "52c2d54f-ca4d-435a-8329-ee708fbc2002",
   "metadata": {},
   "outputs": [],
   "source": [
    "df=pd.DataFrame(d_list)"
   ]
  },
  {
   "cell_type": "code",
   "execution_count": 6,
   "id": "1c018cc0-d6d0-4d75-9661-4683c24a1b37",
   "metadata": {},
   "outputs": [],
   "source": [
    "df.to_csv('test.csv',index=None,encoding='utf-8-sig')"
   ]
  },
  {
   "cell_type": "code",
   "execution_count": null,
   "id": "a28c5a07-619f-4b41-a6fa-e43479c95dd2",
   "metadata": {},
   "outputs": [],
   "source": []
  },
  {
   "cell_type": "code",
   "execution_count": null,
   "id": "97c8f170-3cfb-4f06-95a3-78e89b8a90db",
   "metadata": {},
   "outputs": [],
   "source": []
  },
  {
   "cell_type": "code",
   "execution_count": null,
   "id": "3b8095be-d2a3-4664-8e4a-69f913ea5b8f",
   "metadata": {},
   "outputs": [],
   "source": []
  },
  {
   "cell_type": "code",
   "execution_count": null,
   "id": "6068ce65-dad0-42a9-a073-0b59c607058c",
   "metadata": {},
   "outputs": [],
   "source": []
  },
  {
   "cell_type": "code",
   "execution_count": null,
   "id": "a7776610-618f-450c-bbde-e2729af954d9",
   "metadata": {},
   "outputs": [],
   "source": []
  },
  {
   "cell_type": "code",
   "execution_count": null,
   "id": "0e0f356b-6b0b-4ef2-8ccb-923d5fcb143c",
   "metadata": {},
   "outputs": [],
   "source": []
  },
  {
   "cell_type": "code",
   "execution_count": null,
   "id": "7251fb5b-5f48-43af-b218-20e45cc29d97",
   "metadata": {},
   "outputs": [],
   "source": []
  },
  {
   "cell_type": "code",
   "execution_count": null,
   "id": "05dbbc7e-778f-4eba-b474-8e029708aac8",
   "metadata": {},
   "outputs": [],
   "source": []
  },
  {
   "cell_type": "code",
   "execution_count": null,
   "id": "9770f21d-3aad-4893-bd81-5406576ab698",
   "metadata": {},
   "outputs": [],
   "source": []
  },
  {
   "cell_type": "code",
   "execution_count": null,
   "id": "38524dbb-08ea-4fc8-9995-86cd56157a73",
   "metadata": {},
   "outputs": [],
   "source": []
  },
  {
   "cell_type": "code",
   "execution_count": null,
   "id": "b732c2c5-e54b-4dc6-aec7-d498322b3d69",
   "metadata": {},
   "outputs": [],
   "source": []
  },
  {
   "cell_type": "code",
   "execution_count": null,
   "id": "0becfb85-d767-4952-b754-a0000406513a",
   "metadata": {},
   "outputs": [],
   "source": []
  },
  {
   "cell_type": "code",
   "execution_count": null,
   "id": "47664332-0533-4247-bdc2-477762675528",
   "metadata": {},
   "outputs": [],
   "source": []
  }
 ],
 "metadata": {
  "kernelspec": {
   "display_name": "scraping",
   "language": "python",
   "name": "scraping"
  },
  "language_info": {
   "codemirror_mode": {
    "name": "ipython",
    "version": 3
   },
   "file_extension": ".py",
   "mimetype": "text/x-python",
   "name": "python",
   "nbconvert_exporter": "python",
   "pygments_lexer": "ipython3",
   "version": "3.9.15"
  }
 },
 "nbformat": 4,
 "nbformat_minor": 5
}
